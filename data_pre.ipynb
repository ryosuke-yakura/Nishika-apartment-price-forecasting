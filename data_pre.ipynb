{
 "cells": [
  {
   "cell_type": "code",
   "execution_count": 1,
   "metadata": {},
   "outputs": [],
   "source": [
    "import glob\n",
    "import pandas as pd\n",
    "import numpy as np\n",
    "import matplotlib.pyplot as plt\n",
    "import seaborn as sns\n",
    "%matplotlib inline"
   ]
  },
  {
   "cell_type": "code",
   "execution_count": 19,
   "metadata": {},
   "outputs": [],
   "source": [
    "#trainフォルダ内のcsvファイルを全て取得\n",
    "files = glob.glob(\"train/*.csv\")\n",
    "\n",
    "data_list = []\n",
    "#filesに格納された４７個のファイルをリストに入れる\n",
    "for file in files:\n",
    "    data_list.append(pd.read_csv(file,index_col=0))\n",
    "#追加したリストデータの結合\n",
    "df = pd.concat(data_list)"
   ]
  },
  {
   "cell_type": "code",
   "execution_count": 20,
   "metadata": {},
   "outputs": [],
   "source": [
    "def data_pre(df):\n",
    "    nonnull_list = []\n",
    "\n",
    "    #カラムを呼び出しnull数を計算、０のものをnonnull_listに追加する\n",
    "    for col in df.columns:\n",
    "        nonnull = df[col].count()\n",
    "        if nonnull == 0:\n",
    "            nonnull_list.append(col)\n",
    "            \n",
    "    df = df.drop(nonnull_list,axis=1) \n",
    "\n",
    "    df = df.drop([\"市区町村名\",\"種類\"],axis=1) \n",
    "\n",
    "    dis = {\n",
    "        \"30分?60分\":45,\n",
    "        \"1H?1H30\":75,\n",
    "        \"2H?\":120,\n",
    "        \"1H30?2H\":105\n",
    "    }\n",
    "    df[\"最寄駅：距離（分）\"] = df[\"最寄駅：距離（分）\"].replace(dis).astype(float)\n",
    "    df[\"面積（㎡）\"] = df[\"面積（㎡）\"].replace(\"2000㎡以上\",2000).astype(float)\n",
    "    y_list = {}\n",
    "    for i in df[\"建築年\"].value_counts().keys():\n",
    "        if \"平成\" in i:\n",
    "            num = float(i.split(\"平成\")[1].split(\"年\")[0])\n",
    "            year = 34 - num\n",
    "        if \"令和\" in i: \n",
    "            num = float(i.split(\"令和\")[1].split(\"年\")[0])\n",
    "            year = 4 - num\n",
    "        if \"昭和\" in i:\n",
    "            num = float(i.split(\"昭和\")[1].split(\"年\")[0])\n",
    "            year = 97 - num\n",
    "        y_list[i] = year\n",
    "    df[\"建築年\"] = df[\"建築年\"].replace(y_list)\n",
    "    df[\"取引時点\"]\n",
    "    year = {\n",
    "        \"年第1四半期\":\"0.25\",\n",
    "        \"年第2四半期\":\"0.5\",\n",
    "        \"年第3四半期\":\"0.75\",\n",
    "        \"年第4四半期\":\"0.99\"\n",
    "    }\n",
    "\n",
    "    year_list = {}\n",
    "    for i in df[\"取引時点\"].value_counts().keys():\n",
    "        for k, j in year.items():\n",
    "            if k in i:\n",
    "                year_rep = i.replace(k, j)\n",
    "        year_list[i] = year_rep\n",
    "\n",
    "    df[\"取引時点\"]=df[\"取引時点\"].replace(year_list).astype(float)\n",
    "    \n",
    "    return df"
   ]
  },
  {
   "cell_type": "code",
   "execution_count": 21,
   "metadata": {},
   "outputs": [],
   "source": [
    "df = data_pre(df)"
   ]
  },
  {
   "cell_type": "code",
   "execution_count": 22,
   "metadata": {},
   "outputs": [
    {
     "name": "stdout",
     "output_type": "stream",
     "text": [
      "<class 'pandas.core.frame.DataFrame'>\n",
      "Int64Index: 707485 entries, 43046834 to 45025344\n",
      "Data columns (total 18 columns):\n",
      " #   Column        Non-Null Count   Dtype  \n",
      "---  ------        --------------   -----  \n",
      " 0   市区町村コード       707485 non-null  int64  \n",
      " 1   都道府県名         707485 non-null  object \n",
      " 2   地区名           706818 non-null  object \n",
      " 3   最寄駅：名称        704776 non-null  object \n",
      " 4   最寄駅：距離（分）     684350 non-null  float64\n",
      " 5   間取り           682328 non-null  object \n",
      " 6   面積（㎡）         707485 non-null  float64\n",
      " 7   建築年           686959 non-null  float64\n",
      " 8   建物の構造         689270 non-null  object \n",
      " 9   用途            640702 non-null  object \n",
      " 10  今後の利用目的       342163 non-null  object \n",
      " 11  都市計画          687864 non-null  object \n",
      " 12  建ぺい率（％）       683596 non-null  float64\n",
      " 13  容積率（％）        683596 non-null  float64\n",
      " 14  取引時点          707485 non-null  float64\n",
      " 15  改装            641456 non-null  object \n",
      " 16  取引の事情等        18824 non-null   object \n",
      " 17  取引価格（総額）_log  707485 non-null  float64\n",
      "dtypes: float64(7), int64(1), object(10)\n",
      "memory usage: 102.6+ MB\n"
     ]
    }
   ],
   "source": [
    "df.info()"
   ]
  },
  {
   "cell_type": "code",
   "execution_count": null,
   "metadata": {},
   "outputs": [],
   "source": []
  }
 ],
 "metadata": {
  "kernelspec": {
   "display_name": "Python 3",
   "language": "python",
   "name": "python3"
  },
  "language_info": {
   "codemirror_mode": {
    "name": "ipython",
    "version": 3
   },
   "file_extension": ".py",
   "mimetype": "text/x-python",
   "name": "python",
   "nbconvert_exporter": "python",
   "pygments_lexer": "ipython3",
   "version": "3.8.3"
  }
 },
 "nbformat": 4,
 "nbformat_minor": 4
}
